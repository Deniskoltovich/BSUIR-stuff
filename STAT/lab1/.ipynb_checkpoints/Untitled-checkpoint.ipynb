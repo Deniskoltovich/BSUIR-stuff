{
 "cells": [
  {
   "cell_type": "code",
   "execution_count": 1,
   "id": "434e2c46-8e1e-43ba-9715-b6b4c763a85d",
   "metadata": {},
   "outputs": [
    {
     "name": "stdout",
     "output_type": "stream",
     "text": [
      "Defaulting to user installation because normal site-packages is not writeable\n",
      "Requirement already satisfied: seaborn in /home/denis/.local/lib/python3.10/site-packages (0.13.0)\n",
      "Requirement already satisfied: pandas>=1.2 in /home/denis/.local/lib/python3.10/site-packages (from seaborn) (2.1.0)\n",
      "Requirement already satisfied: matplotlib!=3.6.1,>=3.3 in /home/denis/.local/lib/python3.10/site-packages (from seaborn) (3.7.3)\n",
      "Requirement already satisfied: numpy!=1.24.0,>=1.20 in /home/denis/.local/lib/python3.10/site-packages (from seaborn) (1.25.2)\n",
      "Requirement already satisfied: fonttools>=4.22.0 in /home/denis/.local/lib/python3.10/site-packages (from matplotlib!=3.6.1,>=3.3->seaborn) (4.42.1)\n",
      "Requirement already satisfied: cycler>=0.10 in /home/denis/.local/lib/python3.10/site-packages (from matplotlib!=3.6.1,>=3.3->seaborn) (0.11.0)\n",
      "Requirement already satisfied: python-dateutil>=2.7 in /home/denis/.local/lib/python3.10/site-packages (from matplotlib!=3.6.1,>=3.3->seaborn) (2.8.2)\n",
      "Requirement already satisfied: pyparsing>=2.3.1 in /usr/lib/python3/dist-packages (from matplotlib!=3.6.1,>=3.3->seaborn) (2.4.7)\n",
      "Requirement already satisfied: packaging>=20.0 in /home/denis/.local/lib/python3.10/site-packages (from matplotlib!=3.6.1,>=3.3->seaborn) (23.1)\n",
      "Requirement already satisfied: pillow>=6.2.0 in /usr/lib/python3/dist-packages (from matplotlib!=3.6.1,>=3.3->seaborn) (9.0.1)\n",
      "Requirement already satisfied: kiwisolver>=1.0.1 in /home/denis/.local/lib/python3.10/site-packages (from matplotlib!=3.6.1,>=3.3->seaborn) (1.4.5)\n",
      "Requirement already satisfied: contourpy>=1.0.1 in /home/denis/.local/lib/python3.10/site-packages (from matplotlib!=3.6.1,>=3.3->seaborn) (1.1.0)\n",
      "Requirement already satisfied: tzdata>=2022.1 in /home/denis/.local/lib/python3.10/site-packages (from pandas>=1.2->seaborn) (2023.3)\n",
      "Requirement already satisfied: pytz>=2020.1 in /usr/lib/python3/dist-packages (from pandas>=1.2->seaborn) (2022.1)\n",
      "Requirement already satisfied: six>=1.5 in /usr/lib/python3/dist-packages (from python-dateutil>=2.7->matplotlib!=3.6.1,>=3.3->seaborn) (1.16.0)\n",
      "Defaulting to user installation because normal site-packages is not writeable\n",
      "Requirement already satisfied: scikit-learn in /home/denis/.local/lib/python3.10/site-packages (1.3.1)\n",
      "Requirement already satisfied: scipy>=1.5.0 in /home/denis/.local/lib/python3.10/site-packages (from scikit-learn) (1.11.3)\n",
      "Requirement already satisfied: joblib>=1.1.1 in /home/denis/.local/lib/python3.10/site-packages (from scikit-learn) (1.3.2)\n",
      "Requirement already satisfied: numpy<2.0,>=1.17.3 in /home/denis/.local/lib/python3.10/site-packages (from scikit-learn) (1.25.2)\n",
      "Requirement already satisfied: threadpoolctl>=2.0.0 in /home/denis/.local/lib/python3.10/site-packages (from scikit-learn) (3.2.0)\n"
     ]
    }
   ],
   "source": [
    "!pip install seaborn\n",
    "!pip install scikit-learn\n"
   ]
  },
  {
   "cell_type": "code",
   "execution_count": 2,
   "id": "635fb7b8-941d-432c-bf6e-bd35d4534829",
   "metadata": {},
   "outputs": [],
   "source": [
    "import matplotlib.pyplot as plt\n",
    "import numpy as np\n",
    "import pandas as pd\n",
    "import seaborn as sns\n",
    "from sklearn.linear_model import LinearRegression\n",
    "from sklearn.preprocessing import PolynomialFeatures\n",
    "from sklearn.pipeline import make_pipeline"
   ]
  },
  {
   "cell_type": "code",
   "execution_count": 44,
   "id": "ed5c62aa-d8c8-4227-b073-66f4b089fca3",
   "metadata": {},
   "outputs": [],
   "source": [
    "PATH = \"data.csv\"\n",
    "dataset = pd.read_csv(PATH)\n",
    "    "
   ]
  },
  {
   "cell_type": "code",
   "execution_count": 8,
   "id": "c3ec5414-cdb6-4b2d-96fe-a54f42ca72c6",
   "metadata": {},
   "outputs": [],
   "source": [
    "\n"
   ]
  },
  {
   "cell_type": "code",
   "execution_count": 16,
   "id": "cae0b327-338f-4194-b44d-7cf2d720adea",
   "metadata": {},
   "outputs": [
    {
     "data": {
      "text/html": [
       "<div>\n",
       "<style scoped>\n",
       "    .dataframe tbody tr th:only-of-type {\n",
       "        vertical-align: middle;\n",
       "    }\n",
       "\n",
       "    .dataframe tbody tr th {\n",
       "        vertical-align: top;\n",
       "    }\n",
       "\n",
       "    .dataframe thead th {\n",
       "        text-align: right;\n",
       "    }\n",
       "</style>\n",
       "<table border=\"1\" class=\"dataframe\">\n",
       "  <thead>\n",
       "    <tr style=\"text-align: right;\">\n",
       "      <th></th>\n",
       "      <th>Unnamed: 0</th>\n",
       "      <th>Model</th>\n",
       "      <th>Property</th>\n",
       "      <th>Power</th>\n",
       "      <th>Price</th>\n",
       "      <th>AveragePrice</th>\n",
       "      <th>AveragedPrice</th>\n",
       "    </tr>\n",
       "  </thead>\n",
       "  <tbody>\n",
       "    <tr>\n",
       "      <th>0</th>\n",
       "      <td>0</td>\n",
       "      <td>Byd F0 2018</td>\n",
       "      <td>Manual</td>\n",
       "      <td>1000.0</td>\n",
       "      <td>6900.0</td>\n",
       "      <td>17042.333333</td>\n",
       "      <td>17042.333333</td>\n",
       "    </tr>\n",
       "    <tr>\n",
       "      <th>1</th>\n",
       "      <td>1</td>\n",
       "      <td>Suzuki Alto 2023</td>\n",
       "      <td>manual</td>\n",
       "      <td>800.0</td>\n",
       "      <td>8250.0</td>\n",
       "      <td>8250.000000</td>\n",
       "      <td>8250.000000</td>\n",
       "    </tr>\n",
       "    <tr>\n",
       "      <th>2</th>\n",
       "      <td>2</td>\n",
       "      <td>Suzuki Celerio 2019</td>\n",
       "      <td>Automatic</td>\n",
       "      <td>1000.0</td>\n",
       "      <td>10499.0</td>\n",
       "      <td>17042.333333</td>\n",
       "      <td>17042.333333</td>\n",
       "    </tr>\n",
       "    <tr>\n",
       "      <th>3</th>\n",
       "      <td>3</td>\n",
       "      <td>Changan E Star 2023</td>\n",
       "      <td>Automatic</td>\n",
       "      <td>0.0</td>\n",
       "      <td>10990.0</td>\n",
       "      <td>51659.655172</td>\n",
       "      <td>51659.655172</td>\n",
       "    </tr>\n",
       "    <tr>\n",
       "      <th>4</th>\n",
       "      <td>4</td>\n",
       "      <td>Hyundai Grand i10 2020</td>\n",
       "      <td>Automatic</td>\n",
       "      <td>1250.0</td>\n",
       "      <td>11500.0</td>\n",
       "      <td>11500.000000</td>\n",
       "      <td>11500.000000</td>\n",
       "    </tr>\n",
       "    <tr>\n",
       "      <th>...</th>\n",
       "      <td>...</td>\n",
       "      <td>...</td>\n",
       "      <td>...</td>\n",
       "      <td>...</td>\n",
       "      <td>...</td>\n",
       "      <td>...</td>\n",
       "      <td>...</td>\n",
       "    </tr>\n",
       "    <tr>\n",
       "      <th>361</th>\n",
       "      <td>361</td>\n",
       "      <td>Land Rover Range Rover 2023</td>\n",
       "      <td>Automatic / HSE</td>\n",
       "      <td>3000.0</td>\n",
       "      <td>203350.0</td>\n",
       "      <td>99911.485714</td>\n",
       "      <td>99911.485714</td>\n",
       "    </tr>\n",
       "    <tr>\n",
       "      <th>362</th>\n",
       "      <td>362</td>\n",
       "      <td>Maserati Quattroporte 2022</td>\n",
       "      <td>Automatic / GTS GranLusso</td>\n",
       "      <td>3800.0</td>\n",
       "      <td>210000.0</td>\n",
       "      <td>137577.272727</td>\n",
       "      <td>137577.272727</td>\n",
       "    </tr>\n",
       "    <tr>\n",
       "      <th>363</th>\n",
       "      <td>363</td>\n",
       "      <td>Maserati Levante 2022</td>\n",
       "      <td>Automatic / Trofeo</td>\n",
       "      <td>3800.0</td>\n",
       "      <td>220000.0</td>\n",
       "      <td>137577.272727</td>\n",
       "      <td>137577.272727</td>\n",
       "    </tr>\n",
       "    <tr>\n",
       "      <th>364</th>\n",
       "      <td>364</td>\n",
       "      <td>Genesis GV80 2022</td>\n",
       "      <td>Automatic / Prestige</td>\n",
       "      <td>2500.0</td>\n",
       "      <td>239500.0</td>\n",
       "      <td>58758.615385</td>\n",
       "      <td>58758.615385</td>\n",
       "    </tr>\n",
       "    <tr>\n",
       "      <th>365</th>\n",
       "      <td>365</td>\n",
       "      <td>Cadillac Ecalade V 2023</td>\n",
       "      <td>manual</td>\n",
       "      <td>6200.0</td>\n",
       "      <td>250000.0</td>\n",
       "      <td>165233.333333</td>\n",
       "      <td>165233.333333</td>\n",
       "    </tr>\n",
       "  </tbody>\n",
       "</table>\n",
       "<p>366 rows × 7 columns</p>\n",
       "</div>"
      ],
      "text/plain": [
       "     Unnamed: 0                        Model                   Property  \\\n",
       "0             0                  Byd F0 2018                     Manual   \n",
       "1             1             Suzuki Alto 2023                     manual   \n",
       "2             2          Suzuki Celerio 2019                  Automatic   \n",
       "3             3          Changan E Star 2023                  Automatic   \n",
       "4             4       Hyundai Grand i10 2020                  Automatic   \n",
       "..          ...                          ...                        ...   \n",
       "361         361  Land Rover Range Rover 2023            Automatic / HSE   \n",
       "362         362   Maserati Quattroporte 2022  Automatic / GTS GranLusso   \n",
       "363         363        Maserati Levante 2022         Automatic / Trofeo   \n",
       "364         364            Genesis GV80 2022       Automatic / Prestige   \n",
       "365         365      Cadillac Ecalade V 2023                     manual   \n",
       "\n",
       "      Power     Price   AveragePrice  AveragedPrice  \n",
       "0    1000.0    6900.0   17042.333333   17042.333333  \n",
       "1     800.0    8250.0    8250.000000    8250.000000  \n",
       "2    1000.0   10499.0   17042.333333   17042.333333  \n",
       "3       0.0   10990.0   51659.655172   51659.655172  \n",
       "4    1250.0   11500.0   11500.000000   11500.000000  \n",
       "..      ...       ...            ...            ...  \n",
       "361  3000.0  203350.0   99911.485714   99911.485714  \n",
       "362  3800.0  210000.0  137577.272727  137577.272727  \n",
       "363  3800.0  220000.0  137577.272727  137577.272727  \n",
       "364  2500.0  239500.0   58758.615385   58758.615385  \n",
       "365  6200.0  250000.0  165233.333333  165233.333333  \n",
       "\n",
       "[366 rows x 7 columns]"
      ]
     },
     "execution_count": 16,
     "metadata": {},
     "output_type": "execute_result"
    }
   ],
   "source": []
  },
  {
   "cell_type": "code",
   "execution_count": 48,
   "id": "ace41c73-d628-4e98-9de4-21098458d3c1",
   "metadata": {},
   "outputs": [],
   "source": [
    "x = [x for x in range(1, len(dataset['Movie Rating']) + 1)]\n",
    "rating = dataset['Movie Rating']"
   ]
  },
  {
   "cell_type": "code",
   "execution_count": 49,
   "id": "40b70eda-0a98-44c0-9ba1-193191b8b560",
   "metadata": {},
   "outputs": [
    {
     "data": {
      "image/png": "[encoded data removed]",
      "text/plain": [
       "<Figure size 640x480 with 1 Axes>"
      ]
     },
     "metadata": {},
     "output_type": "display_data"
    }
   ],
   "source": [
    "sns.set_style('darkgrid')\n",
    "sns.set_palette('Set2')\n",
    "sns.lineplot(\n",
    " x=x,\n",
    " y=rating,\n",
    ")\n",
    "plt.title('График зависимости')\n",
    "plt.xlabel('Параметр power')\n",
    "plt.ylabel('Параметр price')\n",
    "plt.show()"
   ]
  },
  {
   "cell_type": "code",
   "execution_count": 50,
   "id": "2518b748-6270-456b-a450-44dd5400c306",
   "metadata": {},
   "outputs": [],
   "source": [
    "x_ = np.array(x).reshape(-1, 1)\n",
    "y = np.array(rating).reshape(-1, 1)\n"
   ]
  },
  {
   "cell_type": "code",
   "execution_count": 52,
   "id": "4d8ca888-a82a-4dba-b816-369a1f526bdd",
   "metadata": {},
   "outputs": [
    {
     "name": "stdout",
     "output_type": "stream",
     "text": [
      "Среднеквадратическая ошибка = 0.013883411674905574\n"
     ]
    }
   ],
   "source": [
    "DEGREES = 2\n",
    "regression = make_pipeline(PolynomialFeatures(DEGREES), LinearRegression())\n",
    "regression.fit(x_, y)\n",
    "predictions = regression.predict(x_)\n",
    "mean_squared_error = np.mean((predictions - np.array(y)) ** 2)\n",
    "print(f'Среднеквадратическая ошибка = {mean_squared_error}')"
   ]
  },
  {
   "cell_type": "code",
   "execution_count": 53,
   "id": "06051a8d-d94c-4401-8c71-4769573bc590",
   "metadata": {},
   "outputs": [
    {
     "data": {
      "image/png": "[encoded data removed]",
      "text/plain": [
       "<Figure size 640x480 with 1 Axes>"
      ]
     },
     "metadata": {},
     "output_type": "display_data"
    }
   ],
   "source": [
    "sns.lineplot(\n",
    " x=x,\n",
    " y=rating,\n",
    " linestyle=\"solid\"\n",
    ")\n",
    "sns.lineplot(\n",
    " x=x,\n",
    " y=predictions.reshape(-1),\n",
    " linestyle=\"dotted\"\n",
    ")\n",
    "plt.title(\n",
    " 'График зависимости\\n\\n'\n",
    " 'Сплошная линия - эталонные значения\\n'\n",
    " 'точечная линия - предсказания регрессии'\n",
    ")\n",
    "plt.xlabel('Параметр X')\n",
    "plt.ylabel('Параметр Y')\n",
    "plt.show()"
   ]
  },
  {
   "cell_type": "code",
   "execution_count": 54,
   "id": "c3774bd5-b3e8-46d8-b8b7-d7bdb2e41248",
   "metadata": {},
   "outputs": [
    {
     "data": {
      "text/plain": [
       "array([ 8.10034042e+00, -2.60938385e-04, -2.05463242e-09])"
      ]
     },
     "execution_count": 54,
     "metadata": {},
     "output_type": "execute_result"
    }
   ],
   "source": [
    "x_parameters = np.append(\n",
    " regression['linearregression'].intercept_[0],\n",
    " regression['linearregression'].coef_[0][1:]\n",
    ")\n",
    "x_parameters"
   ]
  },
  {
   "cell_type": "code",
   "execution_count": null,
   "id": "62838e0f-0ca2-4cf8-a64e-9f7cd2260541",
   "metadata": {},
   "outputs": [],
   "source": [
    "# y=8.10034042−0.000260938385x−0.000000205463242x^2\n"
   ]
  },
  {
   "cell_type": "code",
   "execution_count": null,
   "id": "c49fe2d5-646e-44fc-a519-213daa057b1d",
   "metadata": {},
   "outputs": [],
   "source": []
  },
  {
   "cell_type": "code",
   "execution_count": null,
   "id": "b03d8fb5-d81d-46bc-ae83-1e249c5f3d7c",
   "metadata": {},
   "outputs": [],
   "source": []
  },
  {
   "cell_type": "code",
   "execution_count": null,
   "id": "0665acab-b3f1-4500-abb5-a1f32f230d94",
   "metadata": {},
   "outputs": [],
   "source": []
  }
 ],
 "metadata": {
  "kernelspec": {
   "display_name": "Python 3 (ipykernel)",
   "language": "python",
   "name": "python3"
  },
  "language_info": {
   "codemirror_mode": {
    "name": "ipython",
    "version": 3
   },
   "file_extension": ".py",
   "mimetype": "text/x-python",
   "name": "python",
   "nbconvert_exporter": "python",
   "pygments_lexer": "ipython3",
   "version": "3.10.12"
  }
 },
 "nbformat": 4,
 "nbformat_minor": 5
}
